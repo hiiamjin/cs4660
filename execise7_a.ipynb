{
 "cells": [
  {
   "cell_type": "code",
   "execution_count": 6,
   "metadata": {},
   "outputs": [
    {
     "data": {
      "text/plain": [
       "[4, 16, 36, 64, 100]"
      ]
     },
     "execution_count": 6,
     "metadata": {},
     "output_type": "execute_result"
    }
   ],
   "source": [
    "def evens(lst):\n",
    "\t\"\"\"\n",
    "\tinput: a list of integers\n",
    "\toutput: a list of the even integers\n",
    "\t\"\"\"\n",
    "\teven_nbrs = [number for number in lst if number % 2 == 0]\n",
    "    # [int(value/2) for value in lst if value % 2 == 0]\n",
    "\treturn even_nbrs\n",
    "\t\n",
    "evens((1, 4, 9, 16, 25, 36, 49, 64, 81, 100))\n",
    "\t\n"
   ]
  },
  {
   "cell_type": "code",
   "execution_count": null,
   "metadata": {},
   "outputs": [],
   "source": []
  }
 ],
 "metadata": {
  "kernelspec": {
   "display_name": "Python 3",
   "language": "python",
   "name": "python3"
  },
  "language_info": {
   "codemirror_mode": {
    "name": "ipython",
    "version": 3
   },
   "file_extension": ".py",
   "mimetype": "text/x-python",
   "name": "python",
   "nbconvert_exporter": "python",
   "pygments_lexer": "ipython3",
   "version": "3.6.5"
  }
 },
 "nbformat": 4,
 "nbformat_minor": 2
}
