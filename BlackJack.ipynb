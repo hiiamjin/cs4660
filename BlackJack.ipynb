{
 "cells": [
  {
   "cell_type": "code",
   "execution_count": null,
   "metadata": {},
   "outputs": [],
   "source": [
    "import random\n",
    "\n",
    "dealer = [random.randint(1,10),random.randint(1,10)]\n",
    "player = [random.randint(1,10),random.randint(1,10)] \n",
    "stay = False\n",
    "\n",
    "def player_game():\n",
    "    global stay\n",
    "    print(\"Your hand: %s\" % player)\n",
    "    print(\"Dealer hand: %s\" % dealer)\n",
    "    hit = raw_input(\"Hit or Stay? \")\n",
    "    if hit == \"hit\":\n",
    "        player.append(random.randint(1,10))\n",
    "    elif hit == \"stay\":\n",
    "        stay = True\n",
    "        return stay\n",
    "    else:\n",
    "        print (\"I'm sorry. you need to input 'Hit or Stay'.\")\n",
    "        \n",
    "while 1:\n",
    "    player_game()\n",
    "    p_total = sum(player)\n",
    "    d_total = sum(dealer)\n",
    "    if p_total > 21:\n",
    "        print (\"Hand: %s\" % player)\n",
    "        print (\"You busted with a score of: %s\" % p_total)\n",
    "        break\n",
    "    elif p_total == 21:\n",
    "        print (player)\n",
    "        print (\"You win!\")\n",
    "        break\n",
    "    if stay == True:\n",
    "        print (\"You stayed.\")\n",
    "        print (\"Final score: %s\" % p_total)\n",
    "        print (\"Final score: %s\" % d_total)\n",
    "        break"
   ]
  },
  {
   "cell_type": "code",
   "execution_count": null,
   "metadata": {},
   "outputs": [],
   "source": [
    "\n"
   ]
  },
  {
   "cell_type": "code",
   "execution_count": null,
   "metadata": {},
   "outputs": [],
   "source": []
  },
  {
   "cell_type": "code",
   "execution_count": null,
   "metadata": {},
   "outputs": [],
   "source": []
  }
 ],
 "metadata": {
  "kernelspec": {
   "display_name": "Python 2",
   "language": "python",
   "name": "python2"
  },
  "language_info": {
   "codemirror_mode": {
    "name": "ipython",
    "version": 2
   },
   "file_extension": ".py",
   "mimetype": "text/x-python",
   "name": "python",
   "nbconvert_exporter": "python",
   "pygments_lexer": "ipython2",
   "version": "2.7.15"
  }
 },
 "nbformat": 4,
 "nbformat_minor": 2
}
